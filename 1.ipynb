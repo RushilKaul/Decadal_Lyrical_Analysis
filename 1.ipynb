{
 "cells": [
  {
   "cell_type": "code",
   "execution_count": 3,
   "metadata": {},
   "outputs": [
    {
     "data": {
      "text/plain": [
       "{'original_text': 'सुक़ून् दिल् को मयस्सर् गुलोसमर् मेन् नहीन्',\n",
       " 'spell_corrected_text': 'सुकून दिल को मिस्र गुलमर्ग मेन नहीं',\n",
       " 'correction_dict': {'सुक़ून्': 'सुकून',\n",
       "  'दिल्': 'दिल',\n",
       "  'मयस्सर्': 'मिस्र',\n",
       "  'गुलोसमर्': 'गुलमर्ग',\n",
       "  'मेन्': 'मेन',\n",
       "  'नहीन्': 'नहीं'}}"
      ]
     },
     "execution_count": 3,
     "metadata": {},
     "output_type": "execute_result"
    }
   ],
   "source": [
    "from spello.model import SpellCorrectionModel\n",
    "sp = SpellCorrectionModel(language='hi')\n",
    "sp.load('hi.pkl')\n",
    "sp.spell_correct('सुक़ून् दिल् को मयस्सर् गुलोसमर् मेन् नहीन्')\n"
   ]
  },
  {
   "cell_type": "code",
   "execution_count": null,
   "metadata": {},
   "outputs": [
    {
     "data": {
      "text/plain": [
       "{'original_text': 'सुक़ून् दिल् को मयस्सर् गुलोसमर् मेन् नहीन्',\n",
       " 'spell_corrected_text': 'सुकून दिल को यस्सर् गुलमर्ग मेन नहीं',\n",
       " 'correction_dict': {'सुक़ून्': 'सुकून',\n",
       "  'दिल्': 'दिल',\n",
       "  'मयस्सर्': 'यस्सर्',\n",
       "  'गुलोसमर्': 'गुलमर्ग',\n",
       "  'मेन्': 'मेन',\n",
       "  'नहीन्': 'नहीं'}}"
      ]
     },
     "execution_count": 2,
     "metadata": {},
     "output_type": "execute_result"
    }
   ],
   "source": [
    "from spello.model import SpellCorrectionModel\n",
    "sp = SpellCorrectionModel(language='hi')\n",
    "sp.load('hi_large.pkl')\n",
    "sp.spell_correct('सुक़ून् दिल् को मयस्सर् गुलोसमर् मेन् नहीन्')\n"
   ]
  }
 ],
 "metadata": {
  "kernelspec": {
   "display_name": "Python 3",
   "language": "python",
   "name": "python3"
  },
  "language_info": {
   "codemirror_mode": {
    "name": "ipython",
    "version": 3
   },
   "file_extension": ".py",
   "mimetype": "text/x-python",
   "name": "python",
   "nbconvert_exporter": "python",
   "pygments_lexer": "ipython3",
   "version": "3.10.12"
  }
 },
 "nbformat": 4,
 "nbformat_minor": 2
}
