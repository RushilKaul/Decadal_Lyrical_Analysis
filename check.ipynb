{
 "cells": [
  {
   "cell_type": "code",
   "execution_count": 4,
   "metadata": {},
   "outputs": [],
   "source": [
    "import pandas as pd\n"
   ]
  },
  {
   "cell_type": "code",
   "execution_count": 5,
   "metadata": {},
   "outputs": [
    {
     "name": "stdout",
     "output_type": "stream",
     "text": [
      "सउqऊन दइल कओ मअयअससअर गउलओसअमअर मएन नअहईन जओ आशइयआन मएन हऐ अपअनए वअह बआग भअर मएन नअहईन जअहआन हऐ रआहएगउzअर कअह रअहई हऐ छअलअतई सआनस सउqऊन कई और उममईद उमअर भअर भई नअहईन नअ आसअरआ हओ जइसए दऊसअरओन कआ ए हअमअदअम वअह ऐसआ दइल हऐ कइ जऐसए छइरआग घअर मएन नअहईन पअरआए दउहख कओ दउहख अपअनआ सअमअझ लए और दए सआथ बअशअर नअहईन जओ यअह बआत आरअzऊ बअशअर मएन नअहईन\n"
     ]
    }
   ],
   "source": [
    "def roman_to_devanagari(sentences):\n",
    "    # Dictionary mapping Romanized characters to Devanagari characters\n",
    "    conversion_dict = {\n",
    "        'a': 'अ', 'aa': 'आ', 'i': 'इ', 'ii': 'ई', 'u': 'उ', 'uu': 'ऊ',\n",
    "        'e': 'ए', 'ai': 'ऐ', 'o': 'ओ', 'au': 'औ', 'k': 'क', 'kh': 'ख',\n",
    "        'g': 'ग', 'gh': 'घ', 'c': 'च', 'ch': 'छ', 'j': 'ज', 'jh': 'झ',\n",
    "        't': 'ट', 'th': 'ठ', 'd': 'ड', 'dh': 'ढ', 'n': 'ण', 't': 'त',\n",
    "        'th': 'थ', 'd': 'द', 'dh': 'ध', 'n': 'न', 'p': 'प', 'ph': 'फ',\n",
    "        'b': 'ब', 'bh': 'भ', 'm': 'म', 'y': 'य', 'r': 'र', 'l': 'ल',\n",
    "        'v': 'व', 'sh': 'श', 's': 'स', 'h': 'ह', 'n': 'ं', 'n': 'न',\n",
    "        'n': 'ञ', 't': 'त', 'd': 'द', 'dh': 'ध', 'n': 'न', 'p': 'प',\n",
    "        'ph': 'फ', 'b': 'ब', 'bh': 'भ', 'm': 'म', 'y': 'य', 'r': 'र',\n",
    "        'l': 'ल', 'v': 'व', 'sh': 'श', 's': 'स', 'h': 'ह'\n",
    "    }\n",
    "\n",
    "    devanagari_sentences = []\n",
    "    for sentence in sentences:\n",
    "        # Split the sentence into words and iterate through each word\n",
    "        words = sentence.split()\n",
    "        devanagari_sentence = ''\n",
    "        for word in words:\n",
    "            devanagari_word = ''\n",
    "            i = 0\n",
    "            while i < len(word):\n",
    "                # Check for two-character combinations first\n",
    "                if i + 2 <= len(word) and word[i:i+2] in conversion_dict:\n",
    "                    devanagari_word += conversion_dict[word[i:i+2]]\n",
    "                    i += 2\n",
    "                # If not found, check for single character\n",
    "                elif word[i] in conversion_dict:\n",
    "                    devanagari_word += conversion_dict[word[i]]\n",
    "                    i += 1\n",
    "                else:\n",
    "                    # If character not found, keep it as it is\n",
    "                    devanagari_word += word[i]\n",
    "                    i += 1\n",
    "            devanagari_sentence += devanagari_word + ' '\n",
    "        devanagari_sentences.append(devanagari_sentence.strip())\n",
    "\n",
    "    return devanagari_sentences\n",
    "\n",
    "\n",
    "# Test the function\n",
    "data = pd.read_csv('./datasets/1930-39.csv')\n",
    "roman_sentences = data['Lyrics'].to_list()\n",
    "devanagari_sentences = roman_to_devanagari(roman_sentences)\n",
    "for sentence in devanagari_sentences:\n",
    "    print(sentence)\n",
    "    break\n"
   ]
  },
  {
   "cell_type": "code",
   "execution_count": 6,
   "metadata": {},
   "outputs": [
    {
     "name": "stdout",
     "output_type": "stream",
     "text": [
      "Requirement already satisfied: indic_transliteration in c:\\users\\rushi\\appdata\\local\\programs\\python\\python312\\lib\\site-packages (2.3.59)\n",
      "Requirement already satisfied: backports.functools-lru-cache in c:\\users\\rushi\\appdata\\local\\programs\\python\\python312\\lib\\site-packages (from indic_transliteration) (2.0.0)\n",
      "Requirement already satisfied: regex in c:\\users\\rushi\\appdata\\local\\programs\\python\\python312\\lib\\site-packages (from indic_transliteration) (2023.12.25)\n",
      "Requirement already satisfied: typer in c:\\users\\rushi\\appdata\\local\\programs\\python\\python312\\lib\\site-packages (from indic_transliteration) (0.9.4)\n",
      "Requirement already satisfied: toml in c:\\users\\rushi\\appdata\\local\\programs\\python\\python312\\lib\\site-packages (from indic_transliteration) (0.10.2)\n",
      "Requirement already satisfied: roman in c:\\users\\rushi\\appdata\\local\\programs\\python\\python312\\lib\\site-packages (from indic_transliteration) (4.1)\n",
      "Requirement already satisfied: click<9.0.0,>=7.1.1 in c:\\users\\rushi\\appdata\\local\\programs\\python\\python312\\lib\\site-packages (from typer->indic_transliteration) (8.1.7)\n",
      "Requirement already satisfied: typing-extensions>=3.7.4.3 in c:\\users\\rushi\\appdata\\local\\programs\\python\\python312\\lib\\site-packages (from typer->indic_transliteration) (4.10.0)\n",
      "Requirement already satisfied: colorama in c:\\users\\rushi\\appdata\\roaming\\python\\python312\\site-packages (from click<9.0.0,>=7.1.1->typer->indic_transliteration) (0.4.6)\n"
     ]
    },
    {
     "ename": "ModuleNotFoundError",
     "evalue": "No module named 'indic_transliteration'",
     "output_type": "error",
     "traceback": [
      "\u001b[1;31m---------------------------------------------------------------------------\u001b[0m",
      "\u001b[1;31mModuleNotFoundError\u001b[0m                       Traceback (most recent call last)",
      "Cell \u001b[1;32mIn [6], line 2\u001b[0m\n\u001b[0;32m      1\u001b[0m get_ipython()\u001b[38;5;241m.\u001b[39msystem(\u001b[38;5;124m'\u001b[39m\u001b[38;5;124mpip install indic_transliteration\u001b[39m\u001b[38;5;124m'\u001b[39m)\n\u001b[1;32m----> 2\u001b[0m \u001b[38;5;28;01mfrom\u001b[39;00m \u001b[38;5;21;01mindic_transliteration\u001b[39;00m \u001b[38;5;28;01mimport\u001b[39;00m sanscript\n\u001b[0;32m      4\u001b[0m \u001b[38;5;28;01mdef\u001b[39;00m \u001b[38;5;21mroman_to_devanagari\u001b[39m(text_list):\n\u001b[0;32m      5\u001b[0m     devanagari_sentences \u001b[38;5;241m=\u001b[39m []\n",
      "\u001b[1;31mModuleNotFoundError\u001b[0m: No module named 'indic_transliteration'"
     ]
    }
   ],
   "source": [
    "from indic_transliteration import sanscript\n",
    "\n",
    "def roman_to_devanagari(text_list):\n",
    "    devanagari_sentences = []\n",
    "    for text in text_list:\n",
    "        # Transliterate Romanized Hindi to Devanagari\n",
    "        devanagari_text = sanscript.transliterate(text, sanscript.ITRANS, sanscript.DEVANAGARI)\n",
    "        devanagari_sentences.append(devanagari_text)\n",
    "    return devanagari_sentences\n",
    "\n",
    "# Test the function\n",
    "data = pd.read_csv('./datasets/1930-39.csv')\n",
    "roman_sentences = data['Lyrics'].to_list()\n",
    "devanagari_sentences = roman_to_devanagari(roman_sentences)\n",
    "i = 0\n",
    "for actual, sentence in zip(roman_sentences, devanagari_sentences):\n",
    "    print(actual)\n",
    "    print(sentence)\n",
    "    i += 1\n",
    "    if i==5:\n",
    "        break\n"
   ]
  },
  {
   "cell_type": "code",
   "execution_count": null,
   "metadata": {},
   "outputs": [
    {
     "ename": "ImportError",
     "evalue": "cannot import name 'Iterable' from 'collections' (c:\\Users\\rushi\\AppData\\Local\\Programs\\Python\\Python312\\Lib\\collections\\__init__.py)",
     "output_type": "error",
     "traceback": [
      "\u001b[1;31m---------------------------------------------------------------------------\u001b[0m",
      "\u001b[1;31mImportError\u001b[0m                               Traceback (most recent call last)",
      "Cell \u001b[1;32mIn[4], line 1\u001b[0m\n\u001b[1;32m----> 1\u001b[0m \u001b[38;5;28;01mfrom\u001b[39;00m \u001b[38;5;21;01minltk\u001b[39;00m\u001b[38;5;21;01m.\u001b[39;00m\u001b[38;5;21;01minltk\u001b[39;00m \u001b[38;5;28;01mimport\u001b[39;00m setup\n\u001b[0;32m      2\u001b[0m \u001b[38;5;28;01mfrom\u001b[39;00m \u001b[38;5;21;01minltk\u001b[39;00m\u001b[38;5;21;01m.\u001b[39;00m\u001b[38;5;21;01minltk\u001b[39;00m \u001b[38;5;28;01mimport\u001b[39;00m get_similar_words\n\u001b[0;32m      4\u001b[0m \u001b[38;5;66;03m# Set up iNLTK for Hindi\u001b[39;00m\n",
      "File \u001b[1;32mc:\\Users\\rushi\\AppData\\Local\\Programs\\Python\\Python312\\Lib\\site-packages\\inltk\\inltk.py:8\u001b[0m\n\u001b[0;32m      5\u001b[0m \u001b[38;5;28;01mfrom\u001b[39;00m \u001b[38;5;21;01mmath\u001b[39;00m \u001b[38;5;28;01mimport\u001b[39;00m ceil\n\u001b[0;32m      6\u001b[0m \u001b[38;5;28;01mfrom\u001b[39;00m \u001b[38;5;21;01msklearn\u001b[39;00m\u001b[38;5;21;01m.\u001b[39;00m\u001b[38;5;21;01mmetrics\u001b[39;00m\u001b[38;5;21;01m.\u001b[39;00m\u001b[38;5;21;01mpairwise\u001b[39;00m \u001b[38;5;28;01mimport\u001b[39;00m cosine_similarity\n\u001b[1;32m----> 8\u001b[0m \u001b[38;5;28;01mfrom\u001b[39;00m \u001b[38;5;21;01mfastai\u001b[39;00m\u001b[38;5;21;01m.\u001b[39;00m\u001b[38;5;21;01mtext\u001b[39;00m \u001b[38;5;28;01mimport\u001b[39;00m \u001b[38;5;241m*\u001b[39m\n\u001b[0;32m      9\u001b[0m \u001b[38;5;28;01mfrom\u001b[39;00m \u001b[38;5;21;01minltk\u001b[39;00m\u001b[38;5;21;01m.\u001b[39;00m\u001b[38;5;21;01mconfig\u001b[39;00m \u001b[38;5;28;01mimport\u001b[39;00m LanguageCodes\n\u001b[0;32m     10\u001b[0m \u001b[38;5;28;01mfrom\u001b[39;00m \u001b[38;5;21;01minltk\u001b[39;00m\u001b[38;5;21;01m.\u001b[39;00m\u001b[38;5;21;01mdownload_assets\u001b[39;00m \u001b[38;5;28;01mimport\u001b[39;00m setup_language, verify_language, check_all_languages_identifying_model\n",
      "File \u001b[1;32mc:\\Users\\rushi\\AppData\\Local\\Programs\\Python\\Python312\\Lib\\site-packages\\fastai\\text\\__init__.py:1\u001b[0m\n\u001b[1;32m----> 1\u001b[0m \u001b[38;5;28;01mfrom\u001b[39;00m \u001b[38;5;21;01m.\u001b[39;00m\u001b[38;5;21;01m.\u001b[39;00m \u001b[38;5;28;01mimport\u001b[39;00m basics\n\u001b[0;32m      2\u001b[0m \u001b[38;5;28;01mfrom\u001b[39;00m \u001b[38;5;21;01m.\u001b[39;00m\u001b[38;5;21;01m.\u001b[39;00m\u001b[38;5;21;01mbasics\u001b[39;00m \u001b[38;5;28;01mimport\u001b[39;00m \u001b[38;5;241m*\u001b[39m\n\u001b[0;32m      3\u001b[0m \u001b[38;5;28;01mfrom\u001b[39;00m \u001b[38;5;21;01m.\u001b[39;00m\u001b[38;5;21;01mlearner\u001b[39;00m \u001b[38;5;28;01mimport\u001b[39;00m \u001b[38;5;241m*\u001b[39m\n",
      "File \u001b[1;32mc:\\Users\\rushi\\AppData\\Local\\Programs\\Python\\Python312\\Lib\\site-packages\\fastai\\basics.py:1\u001b[0m\n\u001b[1;32m----> 1\u001b[0m \u001b[38;5;28;01mfrom\u001b[39;00m \u001b[38;5;21;01m.\u001b[39;00m\u001b[38;5;21;01mbasic_train\u001b[39;00m \u001b[38;5;28;01mimport\u001b[39;00m \u001b[38;5;241m*\u001b[39m\n\u001b[0;32m      2\u001b[0m \u001b[38;5;28;01mfrom\u001b[39;00m \u001b[38;5;21;01m.\u001b[39;00m\u001b[38;5;21;01mcallback\u001b[39;00m \u001b[38;5;28;01mimport\u001b[39;00m \u001b[38;5;241m*\u001b[39m\n\u001b[0;32m      3\u001b[0m \u001b[38;5;28;01mfrom\u001b[39;00m \u001b[38;5;21;01m.\u001b[39;00m\u001b[38;5;21;01mcore\u001b[39;00m \u001b[38;5;28;01mimport\u001b[39;00m \u001b[38;5;241m*\u001b[39m\n",
      "File \u001b[1;32mc:\\Users\\rushi\\AppData\\Local\\Programs\\Python\\Python312\\Lib\\site-packages\\fastai\\basic_train.py:2\u001b[0m\n\u001b[0;32m      1\u001b[0m \u001b[38;5;124m\"\u001b[39m\u001b[38;5;124mProvides basic training and validation with `Learner`\u001b[39m\u001b[38;5;124m\"\u001b[39m\n\u001b[1;32m----> 2\u001b[0m \u001b[38;5;28;01mfrom\u001b[39;00m \u001b[38;5;21;01m.\u001b[39;00m\u001b[38;5;21;01mtorch_core\u001b[39;00m \u001b[38;5;28;01mimport\u001b[39;00m \u001b[38;5;241m*\u001b[39m\n\u001b[0;32m      3\u001b[0m \u001b[38;5;28;01mfrom\u001b[39;00m \u001b[38;5;21;01m.\u001b[39;00m\u001b[38;5;21;01mbasic_data\u001b[39;00m \u001b[38;5;28;01mimport\u001b[39;00m \u001b[38;5;241m*\u001b[39m\n\u001b[0;32m      4\u001b[0m \u001b[38;5;28;01mfrom\u001b[39;00m \u001b[38;5;21;01m.\u001b[39;00m\u001b[38;5;21;01mcallback\u001b[39;00m \u001b[38;5;28;01mimport\u001b[39;00m \u001b[38;5;241m*\u001b[39m\n",
      "File \u001b[1;32mc:\\Users\\rushi\\AppData\\Local\\Programs\\Python\\Python312\\Lib\\site-packages\\fastai\\torch_core.py:2\u001b[0m\n\u001b[0;32m      1\u001b[0m \u001b[38;5;124m\"\u001b[39m\u001b[38;5;124mUtility functions to help deal with tensors\u001b[39m\u001b[38;5;124m\"\u001b[39m\n\u001b[1;32m----> 2\u001b[0m \u001b[38;5;28;01mfrom\u001b[39;00m \u001b[38;5;21;01m.\u001b[39;00m\u001b[38;5;21;01mimports\u001b[39;00m\u001b[38;5;21;01m.\u001b[39;00m\u001b[38;5;21;01mtorch\u001b[39;00m \u001b[38;5;28;01mimport\u001b[39;00m \u001b[38;5;241m*\u001b[39m\n\u001b[0;32m      3\u001b[0m \u001b[38;5;28;01mfrom\u001b[39;00m \u001b[38;5;21;01m.\u001b[39;00m\u001b[38;5;21;01mcore\u001b[39;00m \u001b[38;5;28;01mimport\u001b[39;00m \u001b[38;5;241m*\u001b[39m\n\u001b[0;32m      4\u001b[0m \u001b[38;5;28;01mfrom\u001b[39;00m \u001b[38;5;21;01mcollections\u001b[39;00m \u001b[38;5;28;01mimport\u001b[39;00m OrderedDict\n",
      "File \u001b[1;32mc:\\Users\\rushi\\AppData\\Local\\Programs\\Python\\Python312\\Lib\\site-packages\\fastai\\imports\\__init__.py:1\u001b[0m\n\u001b[1;32m----> 1\u001b[0m \u001b[38;5;28;01mfrom\u001b[39;00m \u001b[38;5;21;01m.\u001b[39;00m\u001b[38;5;21;01mcore\u001b[39;00m \u001b[38;5;28;01mimport\u001b[39;00m \u001b[38;5;241m*\u001b[39m\n\u001b[0;32m      2\u001b[0m \u001b[38;5;28;01mfrom\u001b[39;00m \u001b[38;5;21;01m.\u001b[39;00m\u001b[38;5;21;01mtorch\u001b[39;00m \u001b[38;5;28;01mimport\u001b[39;00m \u001b[38;5;241m*\u001b[39m\n",
      "File \u001b[1;32mc:\\Users\\rushi\\AppData\\Local\\Programs\\Python\\Python312\\Lib\\site-packages\\fastai\\imports\\core.py:9\u001b[0m\n\u001b[0;32m      6\u001b[0m \u001b[38;5;28;01mimport\u001b[39;00m \u001b[38;5;21;01mhtml\u001b[39;00m\u001b[38;5;241m,\u001b[39m \u001b[38;5;21;01mre\u001b[39;00m\u001b[38;5;241m,\u001b[39m \u001b[38;5;21;01mrequests\u001b[39;00m\u001b[38;5;241m,\u001b[39m \u001b[38;5;21;01mtarfile\u001b[39;00m\u001b[38;5;241m,\u001b[39m \u001b[38;5;21;01mnumbers\u001b[39;00m\u001b[38;5;241m,\u001b[39m \u001b[38;5;21;01mtempfile\u001b[39;00m\u001b[38;5;241m,\u001b[39m \u001b[38;5;21;01mbz2\u001b[39;00m\n\u001b[0;32m      8\u001b[0m \u001b[38;5;28;01mfrom\u001b[39;00m \u001b[38;5;21;01mabc\u001b[39;00m \u001b[38;5;28;01mimport\u001b[39;00m abstractmethod, abstractproperty\n\u001b[1;32m----> 9\u001b[0m \u001b[38;5;28;01mfrom\u001b[39;00m \u001b[38;5;21;01mcollections\u001b[39;00m \u001b[38;5;28;01mimport\u001b[39;00m abc,  Counter, defaultdict, Iterable, namedtuple, OrderedDict\n\u001b[0;32m     10\u001b[0m \u001b[38;5;28;01mimport\u001b[39;00m \u001b[38;5;21;01mconcurrent\u001b[39;00m\n\u001b[0;32m     11\u001b[0m \u001b[38;5;28;01mfrom\u001b[39;00m \u001b[38;5;21;01mconcurrent\u001b[39;00m\u001b[38;5;21;01m.\u001b[39;00m\u001b[38;5;21;01mfutures\u001b[39;00m \u001b[38;5;28;01mimport\u001b[39;00m ProcessPoolExecutor, ThreadPoolExecutor\n",
      "\u001b[1;31mImportError\u001b[0m: cannot import name 'Iterable' from 'collections' (c:\\Users\\rushi\\AppData\\Local\\Programs\\Python\\Python312\\Lib\\collections\\__init__.py)"
     ]
    }
   ],
   "source": [
    "from inltk.inltk import setup\n",
    "from inltk.inltk import get_similar_words\n",
    "\n",
    "# Set up iNLTK for Hindi\n",
    "setup('hi')\n",
    "\n",
    "def is_hindi_word(word):\n",
    "    try:\n",
    "        # Get similar words\n",
    "        similar_words = get_similar_words(word, 'hi')\n",
    "        # If the function returns a list of similar words, the word is likely Hindi\n",
    "        if similar_words:\n",
    "            return True\n",
    "        else:\n",
    "            return False\n",
    "    except:\n",
    "        # If the function raises an exception, the word is likely not Hindi\n",
    "        return False\n",
    "\n",
    "# The rest of your code remains the same\n",
    "\n",
    "def find_hindi_words(sentences):\n",
    "    hindi_words = set()\n",
    "    non_hindi_words = set()\n",
    "    hindi_count = 0\n",
    "    non_hindi_count = 0\n",
    "    for sentence in sentences:\n",
    "        words = sentence.split()\n",
    "        for word in words:\n",
    "            if is_hindi_word(word):\n",
    "                hindi_words.add(word)\n",
    "                hindi_count += 1\n",
    "            else:\n",
    "                non_hindi_words.add(word)\n",
    "                non_hindi_count += 1\n",
    "    return hindi_words, non_hindi_words, hindi_count, non_hindi_count\n",
    "\n",
    "# Test the function\n",
    "hindi_words, non_hindi_words, hindi_count, non_hindi_count = find_hindi_words(devanagari_sentences)\n",
    "print(\"Number of Hindi words:\", hindi_count)\n",
    "print(\"Hindi words:\", hindi_words)\n",
    "print(\"Number of non-Hindi words:\", non_hindi_count)\n",
    "print(\"Non-Hindi words:\", non_hindi_words)"
   ]
  }
 ],
 "metadata": {
  "kernelspec": {
   "display_name": "Python 3",
   "language": "python",
   "name": "python3"
  },
  "language_info": {
   "codemirror_mode": {
    "name": "ipython",
    "version": 3
   },
   "file_extension": ".py",
   "mimetype": "text/x-python",
   "name": "python",
   "nbconvert_exporter": "python",
   "pygments_lexer": "ipython3",
   "version": "3.9.6"
  }
 },
 "nbformat": 4,
 "nbformat_minor": 2
}
