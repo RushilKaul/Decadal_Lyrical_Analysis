{
 "cells": [
  {
   "cell_type": "code",
   "execution_count": 7,
   "metadata": {},
   "outputs": [],
   "source": [
    "import pandas as pd\n"
   ]
  },
  {
   "cell_type": "code",
   "execution_count": 8,
   "metadata": {},
   "outputs": [
    {
     "name": "stdout",
     "output_type": "stream",
     "text": [
      "सउqऊन दइल कओ मअयअससअर गउलओसअमअर मएन नअहईन जओ आशइयआन मएन हऐ अपअनए वअह बआग भअर मएन नअहईन जअहआन हऐ रआहएगउzअर कअह रअहई हऐ छअलअतई सआनस सउqऊन कई और उममईद उमअर भअर भई नअहईन नअ आसअरआ हओ जइसए दऊसअरओन कआ ए हअमअदअम वअह ऐसआ दइल हऐ कइ जऐसए छइरआग घअर मएन नअहईन पअरआए दउहख कओ दउहख अपअनआ सअमअझ लए और दए सआथ बअशअर नअहईन जओ यअह बआत आरअzऊ बअशअर मएन नअहईन\n"
     ]
    }
   ],
   "source": [
    "def roman_to_devanagari(sentences):\n",
    "    # Dictionary mapping Romanized characters to Devanagari characters\n",
    "    conversion_dict = {\n",
    "        'a': 'अ', 'aa': 'आ', 'i': 'इ', 'ii': 'ई', 'u': 'उ', 'uu': 'ऊ',\n",
    "        'e': 'ए', 'ai': 'ऐ', 'o': 'ओ', 'au': 'औ', 'k': 'क', 'kh': 'ख',\n",
    "        'g': 'ग', 'gh': 'घ', 'c': 'च', 'ch': 'छ', 'j': 'ज', 'jh': 'झ',\n",
    "        't': 'ट', 'th': 'ठ', 'd': 'ड', 'dh': 'ढ', 'n': 'ण', 't': 'त',\n",
    "        'th': 'थ', 'd': 'द', 'dh': 'ध', 'n': 'न', 'p': 'प', 'ph': 'फ',\n",
    "        'b': 'ब', 'bh': 'भ', 'm': 'म', 'y': 'य', 'r': 'र', 'l': 'ल',\n",
    "        'v': 'व', 'sh': 'श', 's': 'स', 'h': 'ह', 'n': 'ं', 'n': 'न',\n",
    "        'n': 'ञ', 't': 'त', 'd': 'द', 'dh': 'ध', 'n': 'न', 'p': 'प',\n",
    "        'ph': 'फ', 'b': 'ब', 'bh': 'भ', 'm': 'म', 'y': 'य', 'r': 'र',\n",
    "        'l': 'ल', 'v': 'व', 'sh': 'श', 's': 'स', 'h': 'ह'\n",
    "    }\n",
    "\n",
    "    devanagari_sentences = []\n",
    "    for sentence in sentences:\n",
    "        # Split the sentence into words and iterate through each word\n",
    "        words = sentence.split()\n",
    "        devanagari_sentence = ''\n",
    "        for word in words:\n",
    "            devanagari_word = ''\n",
    "            i = 0\n",
    "            while i < len(word):\n",
    "                # Check for two-character combinations first\n",
    "                if i + 2 <= len(word) and word[i:i+2] in conversion_dict:\n",
    "                    devanagari_word += conversion_dict[word[i:i+2]]\n",
    "                    i += 2\n",
    "                # If not found, check for single character\n",
    "                elif word[i] in conversion_dict:\n",
    "                    devanagari_word += conversion_dict[word[i]]\n",
    "                    i += 1\n",
    "                else:\n",
    "                    # If character not found, keep it as it is\n",
    "                    devanagari_word += word[i]\n",
    "                    i += 1\n",
    "            devanagari_sentence += devanagari_word + ' '\n",
    "        devanagari_sentences.append(devanagari_sentence.strip())\n",
    "\n",
    "    return devanagari_sentences\n",
    "\n",
    "\n",
    "# Test the function\n",
    "data = pd.read_csv('./datasets/1930-39.csv')\n",
    "roman_sentences = data['Lyrics'].to_list()\n",
    "devanagari_sentences = roman_to_devanagari(roman_sentences)\n",
    "for sentence in devanagari_sentences:\n",
    "    print(sentence)\n",
    "    break\n"
   ]
  },
  {
   "cell_type": "code",
   "execution_count": 11,
   "metadata": {},
   "outputs": [
    {
     "name": "stdout",
     "output_type": "stream",
     "text": [
      "  suquun dil ko mayassar gulosamar men nahiin jo aashiyaan men hai apane vah baag bhar men nahiin  jahaan hai raaheguzar kah rahii hai chalatii saans suquun kii aur ummiid umar bhar bhii nahiin  na aasaraa ho jise duusaron kaa e hamadam vah aisaa dil hai ki jaise chiraag ghar men nahiin  paraae duhkh ko duhkh apanaa samajh le aur de saath bashar nahiin jo yah baat aarazuu bashar men nahiin \n",
      "  सुक़ून् दिल् को मयस्सर् गुलोसमर् मेन् नहीन् जो आशियान् मेन् है अपने वह् बाग् भर् मेन् नहीन्  जहान् है राहेगुज़र् कह् रही है चलती सान्स् सुक़ून् की और् उम्मीद् उमर् भर् भी नहीन्  न आसरा हो जिसे दूसरोन् का ए हमदम् वह् ऐसा दिल् है कि जैसे चिराग् घर् मेन् नहीन्  पराए दुह्ख् को दुह्ख् अपना समझ् ले और् दे साथ् बशर् नहीन् जो यह् बात् आरज़ू बशर् मेन् नहीन् \n",
      "  kamasinii men dil pe gam kaa baar kyon 2 vaa ye qismat paas gul ke kaar kyon 2  tuut jab ummiid hii apanii gayii 2 bandh rahaa hai aansuon kaa taar kyon 2  dil huaa tukade to pahale baar men 2 phir bhii tiiron kii hai ye bauchhaar kyon  viir is diiwaanagii men hai mazaa 2 log kahate hain ise aazaar kyon 2 \n",
      "  कमसिनी मेन् दिल् पे गम् का बार् क्योन् २ वा ये क़िस्मत् पास् गुल् के कार् क्योन् २  तूत् जब् उम्मीद् ही अपनी गयी २ बन्ध् रहा है आन्सुओन् का तार् क्योन् २  दिल् हुआ तुकदे तो पहले बार् मेन् २ फिर् भी तीरोन् की है ये बौछार् क्योन्  वीर् इस् दीवानगी मेन् है मज़ा २ लोग् कहते हैन् इसे आज़ार् क्योन् २ \n",
      " aa aa  din niike biite jaate hain sumaran kar siyaaraam naam  2 haan sumaran kar siyaaraam naam din niike biite jaate hain   kaun tumhaaraa kutambkabiilaa ye sab matalab kaa hai liilaa  2 jiitejii ke naate hain sab 2 jiitejii ke naate hain  sumaran kar siyaaraam naam din niike biite jaate hain 2 sumaran kar siyaaraam naam din niike biite jaat  laakhchauraasii bhugat ke aayaa 2 bade bhaagya maanus tan paayaa laakhchauraasii bhugat ke aayaa bade bhaagya maanus tan paayaa taa par bhii nahiin karii kamaaii 3 phir paachhe pachhataate hain are phir paachhe pachhataate hain 2  sumaran kar siyaaraam naam din niike biite jaate hain sumaran kar siyaaraam naam haan sumaran kar siyaaraam naam din niike biite jaat \n",
      " आ आ  दिन् नीके बीते जाते हैन् सुमरन् कर् सियाराम् नाम्  २ हान् सुमरन् कर् सियाराम् नाम् दिन् नीके बीते जाते हैन्   कौन् तुम्हारा कुतम्ब्कबीला ये सब् मतलब् का है लीला  २ जीतेजी के नाते हैन् सब् २ जीतेजी के नाते हैन्  सुमरन् कर् सियाराम् नाम् दिन् नीके बीते जाते हैन् २ सुमरन् कर् सियाराम् नाम् दिन् नीके बीते जात्  लाख्चौरासी भुगत् के आया २ बदे भाग्य मानुस् तन् पाया लाख्चौरासी भुगत् के आया बदे भाग्य मानुस् तन् पाया ता पर् भी नहीन् करी कमाई ३ फिर् पाछे पछताते हैन् अरे फिर् पाछे पछताते हैन् २  सुमरन् कर् सियाराम् नाम् दिन् नीके बीते जाते हैन् सुमरन् कर् सियाराम् नाम् हान् सुमरन् कर् सियाराम् नाम् दिन् नीके बीते जात् \n",
      "     sa \tkaahe ko mohe chhere re beimanawaa 2 \tkaahe ko mohe chhere \tchher ke mohe pachhataiibe re \tpachhataiibe re 2 \tbeimanawaa \tkaahe ko mohe \t  \traajaa tumahiin se haare \t naajaa tumahii se lagiyaa lagaay \tinake jaat morii dhobaniyaa  2 \traajaa tumahii se  \t cholii dhulawaa ke chhoduu \tchunarii rangawaa ke chhoduu  2 \tangiyaa bandhawaa ke chhoduu 2 \traajaa raajaa \ttumahii se lagiyaa lagaay \tinake jaat morii dhobaniyaa \traajaa tumahii se lagiyaa lagaay \tinake jaat morii dhobaniyaa  sa \tgalle tohe bhar daiin mere \tbhar daiin mere 2 \tmere ke mohe ghir jaibe re \tghir jaibe re \tbeimanawaa \tkaahe ko mohe chhere re beimanawaa \tkaahe ko mohe chhere \n",
      "     स \tकाहे को मोहे छेरे रे बेइमनवा २ \tकाहे को मोहे छेरे \tछेर् के मोहे पछतैइबे रे \tपछतैइबे रे २ \tबेइमनवा \tकाहे को मोहे \t  \tराजा तुमहीन् से हारे \t नाजा तुमही से लगिया लगाय् \tइनके जात् मोरी धोबनिया  २ \tराजा तुमही से  \t चोली धुलवा के छोदू \tचुनरी रन्गवा के छोदू  २ \tअन्गिया बन्धवा के छोदू २ \tराजा राजा \tतुमही से लगिया लगाय् \tइनके जात् मोरी धोबनिया \tराजा तुमही से लगिया लगाय् \tइनके जात् मोरी धोबनिया  स \tगल्ले तोहे भर् दैइन् मेरे \tभर् दैइन् मेरे २ \tमेरे के मोहे घिर् जैबे रे \tघिर् जैबे रे \tबेइमनवा \tकाहे को मोहे छेरे रे बेइमनवा \tकाहे को मोहे छेरे \n",
      "     suhaag kii raat aaii sajanii kaahe bhare tore nainaa 2 suhaag kii raat  aangan men toraa chaand hansat hai 2 pawan rachat madhu bain sajanii 2 kaahe bhare tore nainaa suhaag kii raat aaii sajanii kaahe bhare tore nainaa suhaag kii raat  phaagun men chit hot udaasii waahii ke sun bainaa 2 sohii kaaran bhii udaasii dhar naa rai more nainaa haan sohii kaaran bhii udaasii dhar naa rai more nainaa sajanii dhar naa rai more nainaa suhaag kii raat aaii sajanii kaahe bhare tore nainaa suhaag kii raat  saajan tohe aan pukaare kaahe ghuunghat kaadhe 2 ankhiyan men sakhii kaajar phero 2 aan baso more nain suhaag kii raat aaii sajanii kaahe bhare tore nainaa suhaag kii raat \n",
      "     सुहाग् की रात् आई सजनी काहे भरे तोरे नैना २ सुहाग् की रात्  आन्गन् मेन् तोरा चान्द् हन्सत् है २ पवन् रचत् मधु बैन् सजनी २ काहे भरे तोरे नैना सुहाग् की रात् आई सजनी काहे भरे तोरे नैना सुहाग् की रात्  फागुन् मेन् चित् होत् उदासी वाही के सुन् बैना २ सोही कारन् भी उदासी धर् ना रै मोरे नैना हान् सोही कारन् भी उदासी धर् ना रै मोरे नैना सजनी धर् ना रै मोरे नैना सुहाग् की रात् आई सजनी काहे भरे तोरे नैना सुहाग् की रात्  साजन् तोहे आन् पुकारे काहे घून्घत् काधे २ अन्खियन् मेन् सखी काजर् फेरो २ आन् बसो मोरे नैन् सुहाग् की रात् आई सजनी काहे भरे तोरे नैना सुहाग् की रात् \n"
     ]
    }
   ],
   "source": [
    "from indic_transliteration import sanscript\n",
    "\n",
    "def roman_to_devanagari(text_list):\n",
    "    devanagari_sentences = []\n",
    "    for text in text_list:\n",
    "        # Transliterate Romanized Hindi to Devanagari\n",
    "        devanagari_text = sanscript.transliterate(text, sanscript.ITRANS, sanscript.DEVANAGARI)\n",
    "        devanagari_sentences.append(devanagari_text)\n",
    "    return devanagari_sentences\n",
    "\n",
    "# Test the function\n",
    "data = pd.read_csv('./datasets/1930-39.csv')\n",
    "roman_sentences = data['Lyrics'].to_list()\n",
    "devanagari_sentences = roman_to_devanagari(roman_sentences)\n",
    "i = 0\n",
    "for actual, sentence in zip(roman_sentences, devanagari_sentences):\n",
    "    print(actual)\n",
    "    print(sentence)\n",
    "    i += 1\n",
    "    if i==5:\n",
    "        break\n"
   ]
  },
  {
   "cell_type": "code",
   "execution_count": 12,
   "metadata": {},
   "outputs": [
    {
     "ename": "ModuleNotFoundError",
     "evalue": "No module named 'langdetect'",
     "output_type": "error",
     "traceback": [
      "\u001b[0;31m---------------------------------------------------------------------------\u001b[0m",
      "\u001b[0;31mModuleNotFoundError\u001b[0m                       Traceback (most recent call last)",
      "Cell \u001b[0;32mIn[12], line 1\u001b[0m\n\u001b[0;32m----> 1\u001b[0m \u001b[38;5;28;01mfrom\u001b[39;00m \u001b[38;5;21;01mlangdetect\u001b[39;00m \u001b[38;5;28;01mimport\u001b[39;00m detect\n\u001b[1;32m      3\u001b[0m \u001b[38;5;28;01mdef\u001b[39;00m \u001b[38;5;21mis_hindi_word\u001b[39m(word):\n\u001b[1;32m      4\u001b[0m     \u001b[38;5;28;01mtry\u001b[39;00m:\n\u001b[1;32m      5\u001b[0m         \u001b[38;5;66;03m# Attempt to detect the language of the word\u001b[39;00m\n",
      "\u001b[0;31mModuleNotFoundError\u001b[0m: No module named 'langdetect'"
     ]
    }
   ],
   "source": [
    "from langdetect import detect\n",
    "\n",
    "def is_hindi_word(word):\n",
    "    try:\n",
    "        # Attempt to detect the language of the word\n",
    "        language = detect(word)\n",
    "        # Check if the detected language is Hindi\n",
    "        if language == 'hi':\n",
    "            return True\n",
    "        else:\n",
    "            return False\n",
    "    except:\n",
    "        # Handle cases where language detection fails\n",
    "        print(word)\n",
    "        return False\n",
    "\n",
    "def find_hindi_words(sentences):\n",
    "    hindi_words = set()\n",
    "    for sentence in sentences:\n",
    "        words = sentence.split()\n",
    "        for word in words:\n",
    "            if is_hindi_word(word):\n",
    "                hindi_words.add(word)\n",
    "    return hindi_words\n",
    "\n",
    "# Test the function\n",
    "hindi_words = find_hindi_words(devanagari_sentences)\n",
    "# print(\"Hindi words found in the sentences:\")\n",
    "# for word in hindi_words:\n",
    "    # print(word)"
   ]
  }
 ],
 "metadata": {
  "kernelspec": {
   "display_name": "Python 3",
   "language": "python",
   "name": "python3"
  },
  "language_info": {
   "codemirror_mode": {
    "name": "ipython",
    "version": 3
   },
   "file_extension": ".py",
   "mimetype": "text/x-python",
   "name": "python",
   "nbconvert_exporter": "python",
   "pygments_lexer": "ipython3",
   "version": "3.11.8"
  }
 },
 "nbformat": 4,
 "nbformat_minor": 2
}
