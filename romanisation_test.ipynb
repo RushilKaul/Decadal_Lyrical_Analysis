{
  "cells": [
    {
      "cell_type": "code",
      "execution_count": 11,
      "metadata": {
        "colab": {
          "base_uri": "https://localhost:8080/"
        },
        "id": "MpnjKTS0CPif",
        "outputId": "3a878762-a29d-48a2-b217-3774db7ba513"
      },
      "outputs": [
        {
          "name": "stdout",
          "output_type": "stream",
          "text": [
            "                                               Title           Film  Year  \\\n",
            "0        suquun dil ko mayassar gulosamar men nahiin  street singer  1938   \n",
            "1             kamasinii men dil pe gam kaa baar kyon  amrit manthan  1934   \n",
            "2  din niike biite jaate hain sumaran kar siyaara...  pooran bhagat  1933   \n",
            "3                 kaahe ko mohe chhere re beimanawaa         pukaar  1939   \n",
            "4                       suhaag kii raat aaii sajanii       adhikaar  1938   \n",
            "\n",
            "                     Singer         Composer              Lyricist  \\\n",
            "0  saigal kanan devi saigal  rai chand boral       aarzoo lakhnawi   \n",
            "1        shanta apte chorus  keshavrao bhole     veer muhammedpuri   \n",
            "2                    saigal        r c boral                   NaN   \n",
            "3      sardar akhtar chorus        mir sahab          kamal amrohi   \n",
            "4             pahari sanyal      timir baran  munshi arzoo rasheed   \n",
            "\n",
            "                                              Lyrics  \n",
            "0    suquun dil ko mayassar gulosamar men nahiin ...  \n",
            "1    kamasinii men dil pe gam kaa baar kyon 2 vaa...  \n",
            "2   aa aa  din niike biite jaate hain sumaran kar...  \n",
            "3       sa \\tkaahe ko mohe chhere re beimanawaa 2...  \n",
            "4       suhaag kii raat aaii sajanii kaahe bhare ...  \n",
            "158\n"
          ]
        }
      ],
      "source": [
        "import pandas as pd\n",
        "from devatrans import DevaTrans\n",
        "\n",
        "# Read the CSV file\n",
        "data = pd.read_csv('./datasets/1930-39.csv')\n",
        "\n",
        "# Print the first 5 rows of the DataFrame\n",
        "print(data.head())\n",
        "print(len(data))"
      ]
    },
    {
      "cell_type": "code",
      "execution_count": 12,
      "metadata": {},
      "outputs": [
        {
          "name": "stdout",
          "output_type": "stream",
          "text": [
            "0    suquun dil ko mayassar gulosamar men nahiin jo...\n",
            "1    kamasinii men dil pe gam kaa baar kyon 2 vaa y...\n",
            "2    aa aa  din niike biite jaate hain sumaran kar ...\n",
            "3    sa \\tkaahe ko mohe chhere re beimanawaa 2 \\tka...\n",
            "4    suhaag kii raat aaii sajanii kaahe bhare tore ...\n",
            "Name: Lyrics, dtype: object\n",
            "\n",
            "0    suquun dil ko mayassar gulosamar men nahiin jo...\n",
            "1    kamasinii men dil pe gam kaa baar kyon 2 vaa y...\n",
            "2    aa aa  din niike biite jaate hain sumaran kar ...\n",
            "3    sa   kaahe ko mohe chhere re beimanawaa 2   ka...\n",
            "4    suhaag kii raat aaii sajanii kaahe bhare tore ...\n",
            "Name: Lyrics, dtype: object\n",
            "\n",
            "0    suquun dil ko mayassar gulosamar men nahiin jo...\n",
            "1    kamasinii men dil pe gam kaa baar kyon 2 vaa y...\n",
            "2    aa aa  din niike biite jaate hain sumaran kar ...\n",
            "3    sa  kaahe ko mohe chhere re beimanawaa 2  kaah...\n",
            "4    suhaag kii raat aaii sajanii kaahe bhare tore ...\n",
            "Name: Lyrics, dtype: object\n",
            "158\n"
          ]
        }
      ],
      "source": [
        "# Remove extra spaces from data\n",
        "data['Lyrics'] = data['Lyrics'].str.strip()\n",
        "print(data['Lyrics'].head())\n",
        "print()\n",
        "# Replace tab spaces with 2 spaces\n",
        "data['Lyrics'] = data['Lyrics'].str.replace(r'\\t', '  ', regex=True)\n",
        "print(data['Lyrics'].head())\n",
        "print()\n",
        "# Replace more than two spaces with two spaces\n",
        "data['Lyrics'] = data['Lyrics'].str.replace(r'\\s{3,}', '  ', regex=True)\n",
        "\n",
        "\n",
        "# Print the first 5 rows of the DataFrame\n",
        "# Set the pandas display option\n",
        "print(data['Lyrics'].head())\n",
        "print(len(data))"
      ]
    },
    {
      "cell_type": "code",
      "execution_count": 13,
      "metadata": {
        "colab": {
          "base_uri": "https://localhost:8080/"
        },
        "id": "rzGXJnSKCPih",
        "outputId": "7b9c67e1-c3ac-4261-9e8e-ac420d366166"
      },
      "outputs": [
        {
          "name": "stdout",
          "output_type": "stream",
          "text": [
            "                                               Title           Film  Year  \\\n",
            "0        suquun dil ko mayassar gulosamar men nahiin  street singer  1938   \n",
            "1             kamasinii men dil pe gam kaa baar kyon  amrit manthan  1934   \n",
            "2  din niike biite jaate hain sumaran kar siyaara...  pooran bhagat  1933   \n",
            "3                 kaahe ko mohe chhere re beimanawaa         pukaar  1939   \n",
            "4                       suhaag kii raat aaii sajanii       adhikaar  1938   \n",
            "\n",
            "                     Singer         Composer              Lyricist  \\\n",
            "0  saigal kanan devi saigal  rai chand boral       aarzoo lakhnawi   \n",
            "1        shanta apte chorus  keshavrao bhole     veer muhammedpuri   \n",
            "2                    saigal        r c boral                   NaN   \n",
            "3      sardar akhtar chorus        mir sahab          kamal amrohi   \n",
            "4             pahari sanyal      timir baran  munshi arzoo rasheed   \n",
            "\n",
            "                                              Lyrics  \\\n",
            "0  suquun dil ko mayassar gulosamar men nahiin jo...   \n",
            "1  kamasinii men dil pe gam kaa baar kyon 2 vaa y...   \n",
            "2  aa aa  din niike biite jaate hain sumaran kar ...   \n",
            "3  sa  kaahe ko mohe chhere re beimanawaa 2  kaah...   \n",
            "4  suhaag kii raat aaii sajanii kaahe bhare tore ...   \n",
            "\n",
            "                                          Devanagari  \n",
            "0  सुक़ून् दिल् को मयस्सर् गुलोसमर् मेन् नहीन् जो ...  \n",
            "1  कमसिनी मेन् दिल् पे गम् का बार् क्योन् २ वा ये...  \n",
            "2  आ आ  दिन् नीके बीते जाते हैन् सुमरन् कर् सियार...  \n",
            "3  स  काहे को मोहे छेरे रे बेइमनवा २  काहे को मोह...  \n",
            "4  सुहाग् की रात् आई सजनी काहे भरे तोरे नैना २ सु...  \n"
          ]
        }
      ],
      "source": [
        "# # Create a DevaTrans object\n",
        "# dt = DevaTrans()\n",
        "\n",
        "# # Define a function for back-transliteration\n",
        "# def back_transliterate(text):\n",
        "#     # Back-transliterate the text\n",
        "#     devanagari_text = dt.back_transliterate(input_type=\"sen\", from_convention=\"itrans\", sentence=text)\n",
        "#     # Tokenize the text\n",
        "#     doc = nlp(devanagari_text)\n",
        "#     tokens = [word.text for sent in doc.sentences for word in sent.words]\n",
        "#     return tokens\n",
        "\n",
        "from indic_transliteration import sanscript\n",
        "\n",
        "def roman_to_devanagari(text_list):\n",
        "    devanagari_sentences = []\n",
        "    for text in text_list:\n",
        "        # Transliterate Romanized Hindi to Devanagari\n",
        "        devanagari_text = sanscript.transliterate(text, sanscript.ITRANS, sanscript.DEVANAGARI)\n",
        "        devanagari_sentences.append(devanagari_text)\n",
        "    return devanagari_sentences\n",
        "\n",
        "# Test the function\n",
        "roman_sentences = data['Lyrics'].to_list()\n",
        "devanagari_sentences = roman_to_devanagari(roman_sentences)\n",
        "# Convert the list to a pandas Series\n",
        "devanagari_series = pd.Series(devanagari_sentences)\n",
        "\n",
        "# Add the series as a new column in the DataFrame\n",
        "data['Devanagari'] = devanagari_series\n",
        "\n",
        "# # Apply the function to the 'Lyrics' column\n",
        "# data['lyrics_devanagari'] = data['Lyrics'].apply(back_transliterate)\n",
        "\n",
        "# Print the first 5 rows of the DataFrame\n",
        "print(data.head())"
      ]
    },
    {
      "cell_type": "code",
      "execution_count": 14,
      "metadata": {},
      "outputs": [],
      "source": [
        "# # Define a function for back-transliteration using the \"velthuis\" convention\n",
        "# def back_transliterate_velthuis(text):\n",
        "#     # Back-transliterate the text\n",
        "#     devanagari_text = dt.back_transliterate(input_type=\"sen\", from_convention=\"velthuis\", sentence=text)\n",
        "#     # Tokenize the text\n",
        "#     doc = nlp(devanagari_text)\n",
        "#     tokens = [word.text for sent in doc.sentences for word in sent.words]\n",
        "#     return tokens\n",
        "\n",
        "# # Apply the function to the 'Lyrics' column\n",
        "# data['lyrics_devanagari_velthuis'] = data['Lyrics'].apply(back_transliterate_velthuis)\n",
        "\n"
      ]
    },
    {
      "cell_type": "code",
      "execution_count": 15,
      "metadata": {},
      "outputs": [],
      "source": [
        "# # Print the first 5 rows of the DataFrame\n",
        "# import sys\n",
        "# import numpy as np\n",
        "# # Set the pandas display option\n",
        "# pd.set_option('display.max_colwidth', None)\n",
        "\n",
        "# # Print the first row of the DataFrame for the specified columns\n",
        "# print(data[['Lyrics', 'lyrics_devanagari_velthuis']].iloc[:1])"
      ]
    },
    {
      "cell_type": "code",
      "execution_count": 16,
      "metadata": {
        "id": "NxWVX2WREwfO"
      },
      "outputs": [
        {
          "name": "stderr",
          "output_type": "stream",
          "text": [
            "Downloading https://raw.githubusercontent.com/stanfordnlp/stanza-resources/main/resources_1.8.0.json: 379kB [00:00, 4.01MB/s]                    \n",
            "2024-03-27 17:42:30 INFO: Downloaded file to C:\\Users\\rushi\\stanza_resources\\resources.json\n",
            "2024-03-27 17:42:30 INFO: Downloading default packages for language: hi (Hindi) ...\n",
            "2024-03-27 17:42:31 INFO: File exists: C:\\Users\\rushi\\stanza_resources\\hi\\default.zip\n",
            "2024-03-27 17:42:34 INFO: Finished downloading models and saved to C:\\Users\\rushi\\stanza_resources\n"
          ]
        }
      ],
      "source": [
        "import stanza\n",
        "\n",
        "# Download the Hindi models for stanza\n",
        "stanza.download('hi')\n"
      ]
    },
    {
      "cell_type": "code",
      "execution_count": 17,
      "metadata": {},
      "outputs": [
        {
          "name": "stderr",
          "output_type": "stream",
          "text": [
            "2024-03-27 17:42:35 INFO: Checking for updates to resources.json in case models have been updated.  Note: this behavior can be turned off with download_method=None or download_method=DownloadMethod.REUSE_RESOURCES\n",
            "Downloading https://raw.githubusercontent.com/stanfordnlp/stanza-resources/main/resources_1.8.0.json: 379kB [00:00, 4.26MB/s]                    \n",
            "2024-03-27 17:42:36 INFO: Downloaded file to C:\\Users\\rushi\\stanza_resources\\resources.json\n",
            "2024-03-27 17:42:36 INFO: Loading these models for language: hi (Hindi):\n",
            "=============================\n",
            "| Processor | Package       |\n",
            "-----------------------------\n",
            "| tokenize  | hdtb          |\n",
            "| pos       | hdtb_charlm   |\n",
            "| lemma     | hdtb_nocharlm |\n",
            "=============================\n",
            "\n",
            "2024-03-27 17:42:36 INFO: Using device: cpu\n",
            "2024-03-27 17:42:36 INFO: Loading: tokenize\n",
            "2024-03-27 17:42:36 INFO: Loading: pos\n",
            "2024-03-27 17:42:37 INFO: Loading: lemma\n",
            "2024-03-27 17:42:37 INFO: Done loading processors!\n"
          ]
        },
        {
          "name": "stdout",
          "output_type": "stream",
          "text": [
            "                                          Devanagari  \\\n",
            "0  सुक़ून् दिल् को मयस्सर् गुलोसमर् मेन् नहीन् जो ...   \n",
            "1  कमसिनी मेन् दिल् पे गम् का बार् क्योन् २ वा ये...   \n",
            "2  आ आ  दिन् नीके बीते जाते हैन् सुमरन् कर् सियार...   \n",
            "3  स  काहे को मोहे छेरे रे बेइमनवा २  काहे को मोह...   \n",
            "4  सुहाग् की रात् आई सजनी काहे भरे तोरे नैना २ सु...   \n",
            "\n",
            "                                   lyrics_lemmatized  \n",
            "0  स ु क़ ू न ् द ि ल ् क ो म य स ् स र ् ग ु ल ो ...  \n",
            "1  क म स ि न ी म े न ् द ि ल ् प े ग म ् क ा ब ा ...  \n",
            "2  आ आ द ि न ् न ी क े ब ी त े ज ा त े ह ै न ् स ...  \n",
            "3  स क ा ह े क ो म ो ह े छ े र े र े ब े ( म न व ...  \n",
            "4  स ु ह ा ग ् क ी र ा त ् आ ई स ज न ी क ा ह े भ ...  \n"
          ]
        }
      ],
      "source": [
        "# Initialize the Hindi pipeline without the MWT processor\n",
        "nlp = stanza.Pipeline(lang='hi', processors='tokenize,pos,lemma')\n",
        "\n",
        "# Define a function to extract lemmas\n",
        "def extract_lemmas(text):\n",
        "    # Join the tokens into a string\n",
        "    text = ' '.join(text)\n",
        "    # Process the text\n",
        "    doc = nlp(text)\n",
        "    # Extract lemmas and join them into a string\n",
        "    lemmas = ' '.join(word.lemma for sent in doc.sentences for word in sent.words)\n",
        "    return lemmas\n",
        "\n",
        "# Apply the function to the 'lyrics_devanagari' column\n",
        "data['lyrics_lemmatized'] = data['Devanagari'].apply(extract_lemmas)\n",
        "\n",
        "print(data[['Devanagari', 'lyrics_lemmatized']].head())"
      ]
    },
    {
      "cell_type": "code",
      "execution_count": 18,
      "metadata": {},
      "outputs": [],
      "source": [
        "# # Apply the function to the 'lyrics_devanagari_velthuis' column\n",
        "# data['lyrics_lemmatized_velthuis'] = data['lyrics_devanagari_velthuis'].apply(extract_lemmas)\n",
        "\n",
        "# # Print the first 5 rows of the DataFrame\n",
        "# print(data[['lyrics_devanagari_velthuis', 'lyrics_lemmatized_velthuis']].head())"
      ]
    },
    {
      "cell_type": "code",
      "execution_count": 19,
      "metadata": {},
      "outputs": [
        {
          "name": "stdout",
          "output_type": "stream",
          "text": [
            "                                          Devanagari  \\\n",
            "0  सुक़ून् दिल् को मयस्सर् गुलोसमर् मेन् नहीन् जो ...   \n",
            "1  कमसिनी मेन् दिल् पे गम् का बार् क्योन् २ वा ये...   \n",
            "2  आ आ  दिन् नीके बीते जाते हैन् सुमरन् कर् सियार...   \n",
            "3  स  काहे को मोहे छेरे रे बेइमनवा २  काहे को मोह...   \n",
            "4  सुहाग् की रात् आई सजनी काहे भरे तोरे नैना २ सु...   \n",
            "\n",
            "                                   lyrics_lemmatized  lemmatization_change  \n",
            "0  स ु क़ ू न ् द ि ल ् क ो म य स ् स र ् ग ु ल ो ...              0.615607  \n",
            "1  क म स ि न ी म े न ् द ि ल ् प े ग म ् क ा ब ा ...              0.616438  \n",
            "2  आ आ द ि न ् न ी क े ब ी त े ज ा त े ह ै न ् स ...              0.648298  \n",
            "3  स क ा ह े क ो म ो ह े छ े र े र े ब े ( म न व ...              0.642185  \n",
            "4  स ु ह ा ग ् क ी र ा त ् आ ई स ज न ी क ा ह े भ ...              0.608541  \n"
          ]
        }
      ],
      "source": [
        "import Levenshtein as lev\n",
        "\n",
        "# Define a function to calculate the Levenshtein distance\n",
        "def calculate_change(original, lemmatized):\n",
        "    # Calculate the Levenshtein distance\n",
        "    distance = lev.distance(original, lemmatized)\n",
        "    # Normalize the distance by the length of the original text\n",
        "    normalized_distance = distance / max(len(original), 1)\n",
        "    return normalized_distance\n",
        "\n",
        "# Apply the function to the 'lyrics_devanagari' and 'lyrics_lemmatized' columns\n",
        "data['lemmatization_change'] = data.apply(lambda row: calculate_change(row['Devanagari'], row['lyrics_lemmatized']), axis=1)\n",
        "\n",
        "# Print the first 5 rows of the DataFrame\n",
        "print(data[['Devanagari', 'lyrics_lemmatized', 'lemmatization_change']].head())"
      ]
    }
  ],
  "metadata": {
    "colab": {
      "provenance": []
    },
    "kernelspec": {
      "display_name": "Python 3",
      "language": "python",
      "name": "python3"
    },
    "language_info": {
      "codemirror_mode": {
        "name": "ipython",
        "version": 3
      },
      "file_extension": ".py",
      "mimetype": "text/x-python",
      "name": "python",
      "nbconvert_exporter": "python",
      "pygments_lexer": "ipython3",
      "version": "3.12.2"
    }
  },
  "nbformat": 4,
  "nbformat_minor": 0
}
