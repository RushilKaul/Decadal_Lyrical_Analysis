{
  "cells": [
    {
      "cell_type": "code",
      "execution_count": 31,
      "metadata": {
        "colab": {
          "base_uri": "https://localhost:8080/"
        },
        "id": "MpnjKTS0CPif",
        "outputId": "3a878762-a29d-48a2-b217-3774db7ba513"
      },
      "outputs": [
        {
          "name": "stdout",
          "output_type": "stream",
          "text": [
            "                                               Title           Film  Year  \\\n",
            "0        suquun dil ko mayassar gulosamar men nahiin  street singer  1938   \n",
            "1             kamasinii men dil pe gam kaa baar kyon  amrit manthan  1934   \n",
            "2  din niike biite jaate hain sumaran kar siyaara...  pooran bhagat  1933   \n",
            "3                 kaahe ko mohe chhere re beimanawaa         pukaar  1939   \n",
            "4                       suhaag kii raat aaii sajanii       adhikaar  1938   \n",
            "\n",
            "                     Singer         Composer              Lyricist  \\\n",
            "0  saigal kanan devi saigal  rai chand boral       aarzoo lakhnawi   \n",
            "1        shanta apte chorus  keshavrao bhole     veer muhammedpuri   \n",
            "2                    saigal        r c boral                   NaN   \n",
            "3      sardar akhtar chorus        mir sahab          kamal amrohi   \n",
            "4             pahari sanyal      timir baran  munshi arzoo rasheed   \n",
            "\n",
            "                                              Lyrics  \n",
            "0    suquun dil ko mayassar gulosamar men nahiin ...  \n",
            "1    kamasinii men dil pe gam kaa baar kyon 2 vaa...  \n",
            "2   aa aa  din niike biite jaate hain sumaran kar...  \n",
            "3       sa \\tkaahe ko mohe chhere re beimanawaa 2...  \n",
            "4       suhaag kii raat aaii sajanii kaahe bhare ...  \n"
          ]
        }
      ],
      "source": [
        "import pandas as pd\n",
        "from devatrans import DevaTrans\n",
        "\n",
        "# Read the CSV file\n",
        "data = pd.read_csv('./datasets/1930-39.csv')\n",
        "\n",
        "# Print the first 5 rows of the DataFrame\n",
        "print(data.head())"
      ]
    },
    {
      "cell_type": "code",
      "execution_count": 32,
      "metadata": {
        "colab": {
          "base_uri": "https://localhost:8080/"
        },
        "id": "rzGXJnSKCPih",
        "outputId": "7b9c67e1-c3ac-4261-9e8e-ac420d366166"
      },
      "outputs": [
        {
          "name": "stdout",
          "output_type": "stream",
          "text": [
            "                                               Title           Film  Year  \\\n",
            "0        suquun dil ko mayassar gulosamar men nahiin  street singer  1938   \n",
            "1             kamasinii men dil pe gam kaa baar kyon  amrit manthan  1934   \n",
            "2  din niike biite jaate hain sumaran kar siyaara...  pooran bhagat  1933   \n",
            "3                 kaahe ko mohe chhere re beimanawaa         pukaar  1939   \n",
            "4                       suhaag kii raat aaii sajanii       adhikaar  1938   \n",
            "\n",
            "                     Singer         Composer              Lyricist  \\\n",
            "0  saigal kanan devi saigal  rai chand boral       aarzoo lakhnawi   \n",
            "1        shanta apte chorus  keshavrao bhole     veer muhammedpuri   \n",
            "2                    saigal        r c boral                   NaN   \n",
            "3      sardar akhtar chorus        mir sahab          kamal amrohi   \n",
            "4             pahari sanyal      timir baran  munshi arzoo rasheed   \n",
            "\n",
            "                                              Lyrics  \\\n",
            "0    suquun dil ko mayassar gulosamar men nahiin ...   \n",
            "1    kamasinii men dil pe gam kaa baar kyon 2 vaa...   \n",
            "2   aa aa  din niike biite jaate hain sumaran kar...   \n",
            "3       sa \\tkaahe ko mohe chhere re beimanawaa 2...   \n",
            "4       suhaag kii raat aaii sajanii kaahe bhare ...   \n",
            "\n",
            "                                   lyrics_devanagari  \n",
            "0  [सुक़ून्, दिल्, क्o, मयस्सर्, गुल्oसमर्, मेन्, ...  \n",
            "1  [कमसिन्ी, मेन्, दिल्, पे, गम्, का, बार्, क्य्o...  \n",
            "2  [आ, आ, दिन्, न्ीके, ब्ीते, जाते, हैन्, सुमरन्,...  \n",
            "3  [स, काहे, क्o, म्oहे, च्हेरे, रे, बेइमनwआ, २, ...  \n",
            "4  [सुहाग्, क्ी, रात्, आी, सजन्ी, काहे, भरे, त्oर...  \n"
          ]
        }
      ],
      "source": [
        "# Create a DevaTrans object\n",
        "dt = DevaTrans()\n",
        "\n",
        "# Define a function for back-transliteration\n",
        "def back_transliterate(text):\n",
        "    # Back-transliterate the text\n",
        "    devanagari_text = dt.back_transliterate(input_type=\"sen\", from_convention=\"itrans\", sentence=text)\n",
        "    # Tokenize the text\n",
        "    doc = nlp(devanagari_text)\n",
        "    tokens = [word.text for sent in doc.sentences for word in sent.words]\n",
        "    return tokens\n",
        "\n",
        "# Apply the function to the 'Lyrics' column\n",
        "data['lyrics_devanagari'] = data['Lyrics'].apply(back_transliterate)\n",
        "\n",
        "# Print the first 5 rows of the DataFrame\n",
        "print(data.head())"
      ]
    },
    {
      "cell_type": "code",
      "execution_count": 39,
      "metadata": {},
      "outputs": [
        {
          "ename": "KeyError",
          "evalue": "0",
          "output_type": "error",
          "traceback": [
            "\u001b[1;31m---------------------------------------------------------------------------\u001b[0m",
            "\u001b[1;31mKeyError\u001b[0m                                  Traceback (most recent call last)",
            "File \u001b[1;32mc:\\Users\\rushi\\AppData\\Local\\Programs\\Python\\Python312\\Lib\\site-packages\\pandas\\core\\indexes\\base.py:3805\u001b[0m, in \u001b[0;36mIndex.get_loc\u001b[1;34m(self, key)\u001b[0m\n\u001b[0;32m   3804\u001b[0m \u001b[38;5;28;01mtry\u001b[39;00m:\n\u001b[1;32m-> 3805\u001b[0m     \u001b[38;5;28;01mreturn\u001b[39;00m \u001b[38;5;28;43mself\u001b[39;49m\u001b[38;5;241;43m.\u001b[39;49m\u001b[43m_engine\u001b[49m\u001b[38;5;241;43m.\u001b[39;49m\u001b[43mget_loc\u001b[49m\u001b[43m(\u001b[49m\u001b[43mcasted_key\u001b[49m\u001b[43m)\u001b[49m\n\u001b[0;32m   3806\u001b[0m \u001b[38;5;28;01mexcept\u001b[39;00m \u001b[38;5;167;01mKeyError\u001b[39;00m \u001b[38;5;28;01mas\u001b[39;00m err:\n",
            "File \u001b[1;32mindex.pyx:167\u001b[0m, in \u001b[0;36mpandas._libs.index.IndexEngine.get_loc\u001b[1;34m()\u001b[0m\n",
            "File \u001b[1;32mindex.pyx:196\u001b[0m, in \u001b[0;36mpandas._libs.index.IndexEngine.get_loc\u001b[1;34m()\u001b[0m\n",
            "File \u001b[1;32mpandas\\\\_libs\\\\hashtable_class_helper.pxi:7081\u001b[0m, in \u001b[0;36mpandas._libs.hashtable.PyObjectHashTable.get_item\u001b[1;34m()\u001b[0m\n",
            "File \u001b[1;32mpandas\\\\_libs\\\\hashtable_class_helper.pxi:7089\u001b[0m, in \u001b[0;36mpandas._libs.hashtable.PyObjectHashTable.get_item\u001b[1;34m()\u001b[0m\n",
            "\u001b[1;31mKeyError\u001b[0m: 0",
            "\nThe above exception was the direct cause of the following exception:\n",
            "\u001b[1;31mKeyError\u001b[0m                                  Traceback (most recent call last)",
            "Cell \u001b[1;32mIn[39], line 14\u001b[0m\n\u001b[0;32m     11\u001b[0m data[\u001b[38;5;124m'\u001b[39m\u001b[38;5;124mlyrics_devanagari_velthuis\u001b[39m\u001b[38;5;124m'\u001b[39m] \u001b[38;5;241m=\u001b[39m data[\u001b[38;5;124m'\u001b[39m\u001b[38;5;124mLyrics\u001b[39m\u001b[38;5;124m'\u001b[39m]\u001b[38;5;241m.\u001b[39mapply(back_transliterate_velthuis)\n\u001b[0;32m     13\u001b[0m \u001b[38;5;66;03m# Print the first 5 rows of the DataFrame\u001b[39;00m\n\u001b[1;32m---> 14\u001b[0m \u001b[38;5;28mprint\u001b[39m(\u001b[43mdata\u001b[49m\u001b[43m[\u001b[49m\u001b[43m[\u001b[49m\u001b[38;5;124;43m'\u001b[39;49m\u001b[38;5;124;43mLyrics\u001b[39;49m\u001b[38;5;124;43m'\u001b[39;49m\u001b[43m,\u001b[49m\u001b[43m \u001b[49m\u001b[38;5;124;43m'\u001b[39;49m\u001b[38;5;124;43mlyrics_devanagari_velthuis\u001b[39;49m\u001b[38;5;124;43m'\u001b[39;49m\u001b[43m]\u001b[49m\u001b[43m]\u001b[49m\u001b[43m[\u001b[49m\u001b[38;5;241;43m0\u001b[39;49m\u001b[43m]\u001b[49m)\n",
            "File \u001b[1;32mc:\\Users\\rushi\\AppData\\Local\\Programs\\Python\\Python312\\Lib\\site-packages\\pandas\\core\\frame.py:4090\u001b[0m, in \u001b[0;36mDataFrame.__getitem__\u001b[1;34m(self, key)\u001b[0m\n\u001b[0;32m   4088\u001b[0m \u001b[38;5;28;01mif\u001b[39;00m \u001b[38;5;28mself\u001b[39m\u001b[38;5;241m.\u001b[39mcolumns\u001b[38;5;241m.\u001b[39mnlevels \u001b[38;5;241m>\u001b[39m \u001b[38;5;241m1\u001b[39m:\n\u001b[0;32m   4089\u001b[0m     \u001b[38;5;28;01mreturn\u001b[39;00m \u001b[38;5;28mself\u001b[39m\u001b[38;5;241m.\u001b[39m_getitem_multilevel(key)\n\u001b[1;32m-> 4090\u001b[0m indexer \u001b[38;5;241m=\u001b[39m \u001b[38;5;28;43mself\u001b[39;49m\u001b[38;5;241;43m.\u001b[39;49m\u001b[43mcolumns\u001b[49m\u001b[38;5;241;43m.\u001b[39;49m\u001b[43mget_loc\u001b[49m\u001b[43m(\u001b[49m\u001b[43mkey\u001b[49m\u001b[43m)\u001b[49m\n\u001b[0;32m   4091\u001b[0m \u001b[38;5;28;01mif\u001b[39;00m is_integer(indexer):\n\u001b[0;32m   4092\u001b[0m     indexer \u001b[38;5;241m=\u001b[39m [indexer]\n",
            "File \u001b[1;32mc:\\Users\\rushi\\AppData\\Local\\Programs\\Python\\Python312\\Lib\\site-packages\\pandas\\core\\indexes\\base.py:3812\u001b[0m, in \u001b[0;36mIndex.get_loc\u001b[1;34m(self, key)\u001b[0m\n\u001b[0;32m   3807\u001b[0m     \u001b[38;5;28;01mif\u001b[39;00m \u001b[38;5;28misinstance\u001b[39m(casted_key, \u001b[38;5;28mslice\u001b[39m) \u001b[38;5;129;01mor\u001b[39;00m (\n\u001b[0;32m   3808\u001b[0m         \u001b[38;5;28misinstance\u001b[39m(casted_key, abc\u001b[38;5;241m.\u001b[39mIterable)\n\u001b[0;32m   3809\u001b[0m         \u001b[38;5;129;01mand\u001b[39;00m \u001b[38;5;28many\u001b[39m(\u001b[38;5;28misinstance\u001b[39m(x, \u001b[38;5;28mslice\u001b[39m) \u001b[38;5;28;01mfor\u001b[39;00m x \u001b[38;5;129;01min\u001b[39;00m casted_key)\n\u001b[0;32m   3810\u001b[0m     ):\n\u001b[0;32m   3811\u001b[0m         \u001b[38;5;28;01mraise\u001b[39;00m InvalidIndexError(key)\n\u001b[1;32m-> 3812\u001b[0m     \u001b[38;5;28;01mraise\u001b[39;00m \u001b[38;5;167;01mKeyError\u001b[39;00m(key) \u001b[38;5;28;01mfrom\u001b[39;00m \u001b[38;5;21;01merr\u001b[39;00m\n\u001b[0;32m   3813\u001b[0m \u001b[38;5;28;01mexcept\u001b[39;00m \u001b[38;5;167;01mTypeError\u001b[39;00m:\n\u001b[0;32m   3814\u001b[0m     \u001b[38;5;66;03m# If we have a listlike key, _check_indexing_error will raise\u001b[39;00m\n\u001b[0;32m   3815\u001b[0m     \u001b[38;5;66;03m#  InvalidIndexError. Otherwise we fall through and re-raise\u001b[39;00m\n\u001b[0;32m   3816\u001b[0m     \u001b[38;5;66;03m#  the TypeError.\u001b[39;00m\n\u001b[0;32m   3817\u001b[0m     \u001b[38;5;28mself\u001b[39m\u001b[38;5;241m.\u001b[39m_check_indexing_error(key)\n",
            "\u001b[1;31mKeyError\u001b[0m: 0"
          ]
        }
      ],
      "source": [
        "# Define a function for back-transliteration using the \"velthuis\" convention\n",
        "def back_transliterate_velthuis(text):\n",
        "    # Back-transliterate the text\n",
        "    devanagari_text = dt.back_transliterate(input_type=\"sen\", from_convention=\"velthuis\", sentence=text)\n",
        "    # Tokenize the text\n",
        "    doc = nlp(devanagari_text)\n",
        "    tokens = [word.text for sent in doc.sentences for word in sent.words]\n",
        "    return tokens\n",
        "\n",
        "# Apply the function to the 'Lyrics' column\n",
        "data['lyrics_devanagari_velthuis'] = data['Lyrics'].apply(back_transliterate_velthuis)\n",
        "\n"
      ]
    },
    {
      "cell_type": "code",
      "execution_count": 47,
      "metadata": {},
      "outputs": [
        {
          "name": "stdout",
          "output_type": "stream",
          "text": [
            "                                                                                                                                                                                                                                                                                                                                                                                                      Lyrics  \\\n",
            "0    suquun dil ko mayassar gulosamar men nahiin jo aashiyaan men hai apane vah baag bhar men nahiin  jahaan hai raaheguzar kah rahii hai chalatii saans suquun kii aur ummiid umar bhar bhii nahiin  na aasaraa ho jise duusaron kaa e hamadam vah aisaa dil hai ki jaise chiraag ghar men nahiin  paraae duhkh ko duhkh apanaa samajh le aur de saath bashar nahiin jo yah baat aarazuu bashar men nahiin    \n",
            "\n",
            "                                                                                                                                                                                                                                                                                                                                                                                                                lyrics_devanagari_velthuis  \n",
            "0  [सुqऊन्, दिल्, को, मयस्सर्, गुलोसमर्, मेन्, नहीन्, जो, आस्हियान्, मेन्, है, अपने, वह्, बाग्, भर्, मेन्, नहीन्, जहान्, है, राहेगु, zअर्, कह्, रही, है, छलती, सान्स्, सुqऊन्, की, और्, उम्मीद्, उमर्, भर्, भी, नहीन्, न, आसरा, हो, जिसे, दूसरोन्, का, ए, हमदम्, वह्, ऐसा, दिल्, है, कि, जैसे, छिराग्, घर्, मेन्, नहीन्, पराए, दुह्ख्, को, दुह्ख्, अपना, समझ्, ले, और्, दे, साथ्, बस्हर्, नहीन्, जो, यह्, बात्, आरzऊ, बस्हर्, मेन्, नहीन्]  \n"
          ]
        }
      ],
      "source": [
        "# Print the first 5 rows of the DataFrame\n",
        "import sys\n",
        "import numpy as np\n",
        "# Set the pandas display option\n",
        "pd.set_option('display.max_colwidth', None)\n",
        "\n",
        "# Print the first row of the DataFrame for the specified columns\n",
        "print(data[['Lyrics', 'lyrics_devanagari_velthuis']].iloc[:1])"
      ]
    },
    {
      "cell_type": "code",
      "execution_count": 34,
      "metadata": {
        "id": "NxWVX2WREwfO"
      },
      "outputs": [
        {
          "name": "stderr",
          "output_type": "stream",
          "text": [
            "Downloading https://raw.githubusercontent.com/stanfordnlp/stanza-resources/main/resources_1.8.0.json: 379kB [00:00, 6.24MB/s]                    \n",
            "2024-03-26 15:28:36 INFO: Downloaded file to C:\\Users\\rushi\\stanza_resources\\resources.json\n",
            "2024-03-26 15:28:36 INFO: Downloading default packages for language: hi (Hindi) ...\n",
            "2024-03-26 15:28:37 INFO: File exists: C:\\Users\\rushi\\stanza_resources\\hi\\default.zip\n",
            "2024-03-26 15:28:39 INFO: Finished downloading models and saved to C:\\Users\\rushi\\stanza_resources\n"
          ]
        }
      ],
      "source": [
        "import stanza\n",
        "\n",
        "# Download the Hindi models for stanza\n",
        "stanza.download('hi')\n"
      ]
    },
    {
      "cell_type": "code",
      "execution_count": 36,
      "metadata": {},
      "outputs": [
        {
          "name": "stderr",
          "output_type": "stream",
          "text": [
            "2024-03-26 15:29:43 INFO: Checking for updates to resources.json in case models have been updated.  Note: this behavior can be turned off with download_method=None or download_method=DownloadMethod.REUSE_RESOURCES\n",
            "Downloading https://raw.githubusercontent.com/stanfordnlp/stanza-resources/main/resources_1.8.0.json: 379kB [00:00, 3.72MB/s]                    \n",
            "2024-03-26 15:29:44 INFO: Downloaded file to C:\\Users\\rushi\\stanza_resources\\resources.json\n",
            "2024-03-26 15:29:44 INFO: Loading these models for language: hi (Hindi):\n",
            "=============================\n",
            "| Processor | Package       |\n",
            "-----------------------------\n",
            "| tokenize  | hdtb          |\n",
            "| pos       | hdtb_charlm   |\n",
            "| lemma     | hdtb_nocharlm |\n",
            "=============================\n",
            "\n",
            "2024-03-26 15:29:44 INFO: Using device: cpu\n",
            "2024-03-26 15:29:44 INFO: Loading: tokenize\n",
            "2024-03-26 15:29:44 INFO: Loading: pos\n",
            "2024-03-26 15:29:44 INFO: Loading: lemma\n",
            "2024-03-26 15:29:44 INFO: Done loading processors!\n"
          ]
        },
        {
          "name": "stdout",
          "output_type": "stream",
          "text": [
            "                                   lyrics_devanagari  \\\n",
            "0  [सुक़ून्, दिल्, क्o, मयस्सर्, गुल्oसमर्, मेन्, ...   \n",
            "1  [कमसिन्ी, मेन्, दिल्, पे, गम्, का, बार्, क्य्o...   \n",
            "2  [आ, आ, दिन्, न्ीके, ब्ीते, जाते, हैन्, सुमरन्,...   \n",
            "3  [स, काहे, क्o, म्oहे, च्हेरे, रे, बेइमनwआ, २, ...   \n",
            "4  [सुहाग्, क्ी, रात्, आी, सजन्ी, काहे, भरे, त्oर...   \n",
            "\n",
            "                                   lyrics_lemmatized  \n",
            "0  सुक़ून् दिल् क्o मयस्सर् गुल्oसमर् मेन् नह्ीन् ...  \n",
            "1  कमसिन्ी मेन् दिल् पे गम् का बार् क्य्oन् २ वा ...  \n",
            "2  आ आ दिन् न्ीके ब्ीते जा हैन् सुमरन् कर् सियारा...  \n",
            "3  स काहे क्o म्oहे च्हेरे रे बेइमनwआ २ काहे क्o ...  \n",
            "4  सुहाग् क्ी रात् आी सजन्ी काहे भर त्oरे नैना २ ...  \n"
          ]
        }
      ],
      "source": [
        "# Initialize the Hindi pipeline without the MWT processor\n",
        "nlp = stanza.Pipeline(lang='hi', processors='tokenize,pos,lemma')\n",
        "\n",
        "# Define a function to extract lemmas\n",
        "def extract_lemmas(text):\n",
        "    # Join the tokens into a string\n",
        "    text = ' '.join(text)\n",
        "    # Process the text\n",
        "    doc = nlp(text)\n",
        "    # Extract lemmas and join them into a string\n",
        "    lemmas = ' '.join(word.lemma for sent in doc.sentences for word in sent.words)\n",
        "    return lemmas\n",
        "\n",
        "# Apply the function to the 'lyrics_devanagari' column\n",
        "data['lyrics_lemmatized'] = data['lyrics_devanagari'].apply(extract_lemmas)\n",
        "\n",
        "print(data[['lyrics_devanagari', 'lyrics_lemmatized']].head())"
      ]
    },
    {
      "cell_type": "code",
      "execution_count": 37,
      "metadata": {},
      "outputs": [
        {
          "name": "stdout",
          "output_type": "stream",
          "text": [
            "                          lyrics_devanagari_velthuis  \\\n",
            "0  [सुqऊन्, दिल्, को, मयस्सर्, गुलोसमर्, मेन्, नह...   \n",
            "1  [कमसिनी, मेन्, दिल्, पे, गम्, का, बार्, क्योन्...   \n",
            "2  [आ, आ, दिन्, नीके, बीते, जाते, हैन्, सुमरन्, क...   \n",
            "3  [स, काहे, को, मोहे, छ्हेरे, रे, बेइमनwआ, २, का...   \n",
            "4  [सुहाग्, की, रात्, आई, सजनी, काहे, भरे, तोरे, ...   \n",
            "\n",
            "                          lyrics_lemmatized_velthuis  \n",
            "0  सुqऊन् दिल् को मयस्सर् गुलोसमर् मेन् नहीन् जो ...  \n",
            "1  कमसिनी मेन् दिल् पे गम् का बार् क्योन् २ वा यह...  \n",
            "2  आ आ दिन् नीके बीत जा हैन् सुमरन् कर् सियाराम् ...  \n",
            "3  स काहे को मोहे छ्हेरे रे बेइमनwआ २ काहे को मोह...  \n",
            "4  सुहाग् का रात् आ सजनी काहे भर तोरे नैना २ सुहा...  \n"
          ]
        }
      ],
      "source": [
        "# Apply the function to the 'lyrics_devanagari_velthuis' column\n",
        "data['lyrics_lemmatized_velthuis'] = data['lyrics_devanagari_velthuis'].apply(extract_lemmas)\n",
        "\n",
        "# Print the first 5 rows of the DataFrame\n",
        "print(data[['lyrics_devanagari_velthuis', 'lyrics_lemmatized_velthuis']].head())"
      ]
    },
    {
      "cell_type": "code",
      "execution_count": 38,
      "metadata": {},
      "outputs": [
        {
          "name": "stdout",
          "output_type": "stream",
          "text": [
            "                                   lyrics_devanagari  \\\n",
            "0  [सुक़ून्, दिल्, क्o, मयस्सर्, गुल्oसमर्, मेन्, ...   \n",
            "1  [कमसिन्ी, मेन्, दिल्, पे, गम्, का, बार्, क्य्o...   \n",
            "2  [आ, आ, दिन्, न्ीके, ब्ीते, जाते, हैन्, सुमरन्,...   \n",
            "3  [स, काहे, क्o, म्oहे, च्हेरे, रे, बेइमनwआ, २, ...   \n",
            "4  [सुहाग्, क्ी, रात्, आी, सजन्ी, काहे, भरे, त्oर...   \n",
            "\n",
            "                                   lyrics_lemmatized  lemmatization_change  \n",
            "0  सुक़ून् दिल् क्o मयस्सर् गुल्oसमर् मेन् नह्ीन् ...              5.100000  \n",
            "1  कमसिन्ी मेन् दिल् पे गम् का बार् क्य्oन् २ वा ...              4.698413  \n",
            "2  आ आ दिन् न्ीके ब्ीते जा हैन् सुमरन् कर् सियारा...              5.220339  \n",
            "3  स काहे क्o म्oहे च्हेरे रे बेइमनwआ २ काहे क्o ...              5.173077  \n",
            "4  सुहाग् क्ी रात् आी सजन्ी काहे भर त्oरे नैना २ ...              4.941176  \n"
          ]
        }
      ],
      "source": [
        "import Levenshtein as lev\n",
        "\n",
        "# Define a function to calculate the Levenshtein distance\n",
        "def calculate_change(original, lemmatized):\n",
        "    # Calculate the Levenshtein distance\n",
        "    distance = lev.distance(original, lemmatized)\n",
        "    # Normalize the distance by the length of the original text\n",
        "    normalized_distance = distance / max(len(original), 1)\n",
        "    return normalized_distance\n",
        "\n",
        "# Apply the function to the 'lyrics_devanagari' and 'lyrics_lemmatized' columns\n",
        "data['lemmatization_change'] = data.apply(lambda row: calculate_change(row['lyrics_devanagari'], row['lyrics_lemmatized']), axis=1)\n",
        "\n",
        "# Print the first 5 rows of the DataFrame\n",
        "print(data[['lyrics_devanagari', 'lyrics_lemmatized', 'lemmatization_change']].head())"
      ]
    }
  ],
  "metadata": {
    "colab": {
      "provenance": []
    },
    "kernelspec": {
      "display_name": "Python 3",
      "language": "python",
      "name": "python3"
    },
    "language_info": {
      "codemirror_mode": {
        "name": "ipython",
        "version": 3
      },
      "file_extension": ".py",
      "mimetype": "text/x-python",
      "name": "python",
      "nbconvert_exporter": "python",
      "pygments_lexer": "ipython3",
      "version": "3.12.2"
    }
  },
  "nbformat": 4,
  "nbformat_minor": 0
}
